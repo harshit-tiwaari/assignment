{
  "nbformat": 4,
  "nbformat_minor": 0,
  "metadata": {
    "colab": {
      "name": "assignmnet4.ipynb",
      "provenance": [],
      "authorship_tag": "ABX9TyMdCdNjkq0pA8KakpAB9jpo",
      "include_colab_link": true
    },
    "kernelspec": {
      "name": "python3",
      "display_name": "Python 3"
    },
    "language_info": {
      "name": "python"
    }
  },
  "cells": [
    {
      "cell_type": "markdown",
      "metadata": {
        "id": "view-in-github",
        "colab_type": "text"
      },
      "source": [
        "<a href=\"https://colab.research.google.com/github/harshit-tiwaari/introductiontocomputing/blob/main/assignmnet4.ipynb\" target=\"_parent\"><img src=\"https://colab.research.google.com/assets/colab-badge.svg\" alt=\"Open In Colab\"/></a>"
      ]
    },
    {
      "cell_type": "code",
      "execution_count": 18,
      "metadata": {
        "colab": {
          "base_uri": "https://localhost:8080/"
        },
        "id": "nrB0u2QS9-up",
        "outputId": "485709e8-0ae8-4161-aa32-cc6dea17bd4f"
      },
      "outputs": [
        {
          "output_type": "stream",
          "name": "stdout",
          "text": [
            "Enter your marke:33\n",
            "e\n",
            "Enter the year:4556\n",
            "4556 is a leap year\n",
            "92 * 14\n",
            "Your answer1288\n",
            "Right\n",
            "76 * 5\n",
            "Your answer380\n",
            "Right\n",
            "17 * 13\n",
            "Your answer221\n",
            "Right\n",
            "30 * 14\n",
            "Your answer420\n",
            "Right\n",
            "70 * 1\n",
            "Your answer70\n",
            "Right\n",
            "8 * 1\n",
            "Your answer8\n",
            "Right\n",
            "44 * 4\n",
            "Your answer176\n",
            "Right\n",
            "43 * 3\n",
            "Your answer129\n",
            "Right\n",
            "38 * 15\n",
            "Your answer570\n",
            "Right\n",
            "29 * 1\n",
            "Your answer29\n",
            "Right\n",
            "177 Candies are in the bowl\n"
          ]
        }
      ],
      "source": [
        "#1\n",
        "marks =float (input (\"Enter your marke:\"))\n",
        "\n",
        "if marks>80:\n",
        "\n",
        " print ('A')\n",
        "\n",
        "elif marks in range (61, 81):\n",
        " print ('B')\n",
        "\n",
        "elif marks in range (51,61):\n",
        "\n",
        " print ('C')\n",
        "\n",
        "elif marks in range (46,51):\n",
        " print ('D')\n",
        "\n",
        "elif marks in range (25,46):\n",
        "\n",
        " print ('e')\n",
        "\n",
        "else:\n",
        " print('F')\n",
        "\n",
        "#2\n",
        "year=int (input (\"Enter the year:\"))\n",
        "\n",
        "if (year%4==0) and (year%100!=0):\n",
        " print (year, \"is a leap year\")\n",
        "\n",
        "elif (year%400==0) and (year%100==0):\n",
        "\n",
        " print (year,\"is a leap year\")\n",
        "else:\n",
        "\n",
        " print (year,\"is not a leap year\")\n",
        "\n",
        " #3\n",
        "from random import randint\n",
        "t=0 \n",
        "while t<10:\n",
        " a=randint (1,100)\n",
        " b=randint (1,15)\n",
        " c=a*b\n",
        " print (a,\"*\",b)\n",
        "\n",
        " d=int(input (\"Your answer\"))\n",
        " if(c==d):\n",
        "  print (\"Right\")\n",
        " else:\n",
        "\n",
        "  print(\"Wrong The answer is:\",c)\n",
        " t=t+1\n",
        "\n",
        "#4\n",
        "i=0\n",
        "for i in range (201):\n",
        "  if i%5==2:\n",
        "    if i%6==3:\n",
        "      if i%7==2:\n",
        "        print(i,\"Candies are in the bowl\")\n",
        "\n"
      ]
    }
  ]
}